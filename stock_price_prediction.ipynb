{
 "cells": [
  {
   "cell_type": "markdown",
   "metadata": {},
   "source": [
    "# STONKS\n",
    "Predicting stock price using TimeSeriesGenerator"
   ]
  },
  {
   "cell_type": "markdown",
   "metadata": {},
   "source": [
    "### importing libraries"
   ]
  },
  {
   "cell_type": "code",
   "execution_count": 1,
   "metadata": {},
   "outputs": [],
   "source": [
    "from keras.preprocessing.sequence import TimeseriesGenerator\n",
    "import numpy as np\n",
    "from keras import models, layers\n",
    "import yfinance as yf\n",
    "import matplotlib.pyplot as plt"
   ]
  },
  {
   "cell_type": "markdown",
   "metadata": {},
   "source": [
    "### Apple's Stock Data"
   ]
  },
  {
   "cell_type": "code",
   "execution_count": 2,
   "metadata": {},
   "outputs": [],
   "source": [
    "# AAPL -- Apple's ticker\n",
    "apple = yf.Ticker('AAPL')"
   ]
  },
  {
   "cell_type": "markdown",
   "metadata": {},
   "source": [
    "### data frame"
   ]
  },
  {
   "cell_type": "code",
   "execution_count": 3,
   "metadata": {},
   "outputs": [],
   "source": [
    "history = apple.history(period='max', interval='1d')"
   ]
  },
  {
   "cell_type": "code",
   "execution_count": 4,
   "metadata": {},
   "outputs": [
    {
     "data": {
      "text/html": [
       "<div>\n",
       "<style scoped>\n",
       "    .dataframe tbody tr th:only-of-type {\n",
       "        vertical-align: middle;\n",
       "    }\n",
       "\n",
       "    .dataframe tbody tr th {\n",
       "        vertical-align: top;\n",
       "    }\n",
       "\n",
       "    .dataframe thead th {\n",
       "        text-align: right;\n",
       "    }\n",
       "</style>\n",
       "<table border=\"1\" class=\"dataframe\">\n",
       "  <thead>\n",
       "    <tr style=\"text-align: right;\">\n",
       "      <th></th>\n",
       "      <th>Open</th>\n",
       "      <th>High</th>\n",
       "      <th>Low</th>\n",
       "      <th>Close</th>\n",
       "      <th>Volume</th>\n",
       "      <th>Dividends</th>\n",
       "      <th>Stock Splits</th>\n",
       "    </tr>\n",
       "    <tr>\n",
       "      <th>Date</th>\n",
       "      <th></th>\n",
       "      <th></th>\n",
       "      <th></th>\n",
       "      <th></th>\n",
       "      <th></th>\n",
       "      <th></th>\n",
       "      <th></th>\n",
       "    </tr>\n",
       "  </thead>\n",
       "  <tbody>\n",
       "    <tr>\n",
       "      <th>1980-12-12</th>\n",
       "      <td>0.100266</td>\n",
       "      <td>0.100702</td>\n",
       "      <td>0.100266</td>\n",
       "      <td>0.100266</td>\n",
       "      <td>469033600</td>\n",
       "      <td>0.0</td>\n",
       "      <td>0.0</td>\n",
       "    </tr>\n",
       "    <tr>\n",
       "      <th>1980-12-15</th>\n",
       "      <td>0.095470</td>\n",
       "      <td>0.095470</td>\n",
       "      <td>0.095035</td>\n",
       "      <td>0.095035</td>\n",
       "      <td>175884800</td>\n",
       "      <td>0.0</td>\n",
       "      <td>0.0</td>\n",
       "    </tr>\n",
       "    <tr>\n",
       "      <th>1980-12-16</th>\n",
       "      <td>0.088495</td>\n",
       "      <td>0.088495</td>\n",
       "      <td>0.088059</td>\n",
       "      <td>0.088059</td>\n",
       "      <td>105728000</td>\n",
       "      <td>0.0</td>\n",
       "      <td>0.0</td>\n",
       "    </tr>\n",
       "    <tr>\n",
       "      <th>1980-12-17</th>\n",
       "      <td>0.090239</td>\n",
       "      <td>0.090675</td>\n",
       "      <td>0.090239</td>\n",
       "      <td>0.090239</td>\n",
       "      <td>86441600</td>\n",
       "      <td>0.0</td>\n",
       "      <td>0.0</td>\n",
       "    </tr>\n",
       "    <tr>\n",
       "      <th>1980-12-18</th>\n",
       "      <td>0.092855</td>\n",
       "      <td>0.093291</td>\n",
       "      <td>0.092855</td>\n",
       "      <td>0.092855</td>\n",
       "      <td>73449600</td>\n",
       "      <td>0.0</td>\n",
       "      <td>0.0</td>\n",
       "    </tr>\n",
       "    <tr>\n",
       "      <th>...</th>\n",
       "      <td>...</td>\n",
       "      <td>...</td>\n",
       "      <td>...</td>\n",
       "      <td>...</td>\n",
       "      <td>...</td>\n",
       "      <td>...</td>\n",
       "      <td>...</td>\n",
       "    </tr>\n",
       "    <tr>\n",
       "      <th>2020-12-02</th>\n",
       "      <td>122.019997</td>\n",
       "      <td>123.370003</td>\n",
       "      <td>120.889999</td>\n",
       "      <td>123.080002</td>\n",
       "      <td>89004200</td>\n",
       "      <td>0.0</td>\n",
       "      <td>0.0</td>\n",
       "    </tr>\n",
       "    <tr>\n",
       "      <th>2020-12-03</th>\n",
       "      <td>123.519997</td>\n",
       "      <td>123.779999</td>\n",
       "      <td>122.209999</td>\n",
       "      <td>122.940002</td>\n",
       "      <td>78967600</td>\n",
       "      <td>0.0</td>\n",
       "      <td>0.0</td>\n",
       "    </tr>\n",
       "    <tr>\n",
       "      <th>2020-12-04</th>\n",
       "      <td>122.599998</td>\n",
       "      <td>122.860001</td>\n",
       "      <td>121.519997</td>\n",
       "      <td>122.250000</td>\n",
       "      <td>78260400</td>\n",
       "      <td>0.0</td>\n",
       "      <td>0.0</td>\n",
       "    </tr>\n",
       "    <tr>\n",
       "      <th>2020-12-07</th>\n",
       "      <td>122.309998</td>\n",
       "      <td>124.570000</td>\n",
       "      <td>122.250000</td>\n",
       "      <td>123.750000</td>\n",
       "      <td>86561300</td>\n",
       "      <td>0.0</td>\n",
       "      <td>0.0</td>\n",
       "    </tr>\n",
       "    <tr>\n",
       "      <th>2020-12-08</th>\n",
       "      <td>122.309998</td>\n",
       "      <td>124.559998</td>\n",
       "      <td>123.769997</td>\n",
       "      <td>123.839996</td>\n",
       "      <td>6995120</td>\n",
       "      <td>0.0</td>\n",
       "      <td>0.0</td>\n",
       "    </tr>\n",
       "  </tbody>\n",
       "</table>\n",
       "<p>10083 rows × 7 columns</p>\n",
       "</div>"
      ],
      "text/plain": [
       "                  Open        High         Low       Close     Volume  \\\n",
       "Date                                                                    \n",
       "1980-12-12    0.100266    0.100702    0.100266    0.100266  469033600   \n",
       "1980-12-15    0.095470    0.095470    0.095035    0.095035  175884800   \n",
       "1980-12-16    0.088495    0.088495    0.088059    0.088059  105728000   \n",
       "1980-12-17    0.090239    0.090675    0.090239    0.090239   86441600   \n",
       "1980-12-18    0.092855    0.093291    0.092855    0.092855   73449600   \n",
       "...                ...         ...         ...         ...        ...   \n",
       "2020-12-02  122.019997  123.370003  120.889999  123.080002   89004200   \n",
       "2020-12-03  123.519997  123.779999  122.209999  122.940002   78967600   \n",
       "2020-12-04  122.599998  122.860001  121.519997  122.250000   78260400   \n",
       "2020-12-07  122.309998  124.570000  122.250000  123.750000   86561300   \n",
       "2020-12-08  122.309998  124.559998  123.769997  123.839996    6995120   \n",
       "\n",
       "            Dividends  Stock Splits  \n",
       "Date                                 \n",
       "1980-12-12        0.0           0.0  \n",
       "1980-12-15        0.0           0.0  \n",
       "1980-12-16        0.0           0.0  \n",
       "1980-12-17        0.0           0.0  \n",
       "1980-12-18        0.0           0.0  \n",
       "...               ...           ...  \n",
       "2020-12-02        0.0           0.0  \n",
       "2020-12-03        0.0           0.0  \n",
       "2020-12-04        0.0           0.0  \n",
       "2020-12-07        0.0           0.0  \n",
       "2020-12-08        0.0           0.0  \n",
       "\n",
       "[10083 rows x 7 columns]"
      ]
     },
     "execution_count": 4,
     "metadata": {},
     "output_type": "execute_result"
    }
   ],
   "source": [
    "history"
   ]
  },
  {
   "cell_type": "markdown",
   "metadata": {},
   "source": [
    "### function that uses TimeseriesGenerator class with information about dividends"
   ]
  },
  {
   "cell_type": "code",
   "execution_count": 5,
   "metadata": {},
   "outputs": [],
   "source": [
    "def generate_series(data, value_num):\n",
    "    close = data['Close']\n",
    "    dividends = data['Dividends']\n",
    "    tsg = TimeseriesGenerator(close, close,\n",
    "                              length=value_num,\n",
    "                              batch_size=len(close))\n",
    "    global_index = value_num\n",
    "    i, t = tsg[0]\n",
    "    has_dividends = np.zeros(len(i))\n",
    "    for b_row in range(len(t)):\n",
    "        assert(abs(t[b_row] - close[global_index]) <= 0.001)\n",
    "        has_dividends[b_row] = dividends[global_index] > 0            \n",
    "        global_index += 1\n",
    "    return np.concatenate((i, np.transpose([has_dividends])),\n",
    "                           axis=1), t"
   ]
  },
  {
   "cell_type": "markdown",
   "metadata": {},
   "source": [
    "### performing MinMax normalization"
   ]
  },
  {
   "cell_type": "code",
   "execution_count": 6,
   "metadata": {},
   "outputs": [],
   "source": [
    "h_min = history.min()\n",
    "normalized_h = (history - h_min) / (history.max() - h_min)"
   ]
  },
  {
   "cell_type": "markdown",
   "metadata": {},
   "source": [
    "### creates a neural network with a specified number of inputs"
   ]
  },
  {
   "cell_type": "code",
   "execution_count": 7,
   "metadata": {},
   "outputs": [],
   "source": [
    "def create_model(n):\n",
    "    m = models.Sequential()\n",
    "    m.add(layers.Dense(64, activation='relu', input_shape=(n+1,)))\n",
    "    m.add(layers.Dense(64, activation='relu'))\n",
    "    m.add(layers.Dense(1))\n",
    "    return m"
   ]
  },
  {
   "cell_type": "markdown",
   "metadata": {},
   "source": [
    "### training the model"
   ]
  },
  {
   "cell_type": "code",
   "execution_count": 8,
   "metadata": {},
   "outputs": [],
   "source": [
    "def select_inputs(data, start, end, epochs):\n",
    "    models = {}\n",
    "    for inputs in range(start, end+1):\n",
    "        print('Using {} inputs'.format(inputs))\n",
    "        model_inputs, targets = generate_series(data, inputs)\n",
    "        \n",
    "        train_inputs = model_inputs[:-1000]\n",
    "        val_inputs = model_inputs[-1000:]\n",
    "        train_targets = targets[:-1000]\n",
    "        val_targets = targets[-1000:]\n",
    "        \n",
    "        m = create_model(inputs)\n",
    "        print('Training')\n",
    "        m.compile(optimizer='adam', loss='mse', metrics=['accuracy']) \n",
    "        h = m.fit(train_inputs, train_targets,\n",
    "                  epochs=epochs,\n",
    "                  batch_size=32,\n",
    "                  validation_data=(val_inputs, val_targets))\n",
    "        model_info = {'model': m, 'history': h.history}\n",
    "        models[inputs] = model_info\n",
    "    return models\n"
   ]
  },
  {
   "cell_type": "code",
   "execution_count": 9,
   "metadata": {},
   "outputs": [
    {
     "name": "stdout",
     "output_type": "stream",
     "text": [
      "Using 2 inputs\n",
      "Training\n",
      "Epoch 1/10\n",
      "284/284 [==============================] - 1s 5ms/step - loss: 2.2348e-04 - accuracy: 1.1012e-04 - val_loss: 0.0052 - val_accuracy: 0.0010\n",
      "Epoch 2/10\n",
      "284/284 [==============================] - 1s 3ms/step - loss: 2.3216e-06 - accuracy: 1.1012e-04 - val_loss: 0.0047 - val_accuracy: 0.0010\n",
      "Epoch 3/10\n",
      "284/284 [==============================] - 1s 3ms/step - loss: 1.5720e-06 - accuracy: 1.1012e-04 - val_loss: 0.0044 - val_accuracy: 0.0010\n",
      "Epoch 4/10\n",
      "284/284 [==============================] - 1s 4ms/step - loss: 1.9662e-06 - accuracy: 1.1012e-04 - val_loss: 0.0047 - val_accuracy: 0.0010\n",
      "Epoch 5/10\n",
      "284/284 [==============================] - 1s 4ms/step - loss: 2.0978e-06 - accuracy: 1.1012e-04 - val_loss: 0.0046 - val_accuracy: 0.0010\n",
      "Epoch 6/10\n",
      "284/284 [==============================] - 1s 4ms/step - loss: 4.6039e-06 - accuracy: 1.1012e-04 - val_loss: 0.0044 - val_accuracy: 0.0010\n",
      "Epoch 7/10\n",
      "284/284 [==============================] - 1s 4ms/step - loss: 1.9143e-06 - accuracy: 1.1012e-04 - val_loss: 0.0046 - val_accuracy: 0.0010\n",
      "Epoch 8/10\n",
      "284/284 [==============================] - 1s 3ms/step - loss: 1.8960e-06 - accuracy: 1.1012e-04 - val_loss: 0.0047 - val_accuracy: 0.0010\n",
      "Epoch 9/10\n",
      "284/284 [==============================] - 1s 4ms/step - loss: 1.7288e-06 - accuracy: 1.1012e-04 - val_loss: 0.0044 - val_accuracy: 0.0010\n",
      "Epoch 10/10\n",
      "284/284 [==============================] - 1s 5ms/step - loss: 2.4786e-06 - accuracy: 1.1012e-04 - val_loss: 0.0048 - val_accuracy: 0.0010\n",
      "Using 3 inputs\n",
      "Training\n",
      "Epoch 1/10\n",
      "284/284 [==============================] - 2s 6ms/step - loss: 3.9190e-05 - accuracy: 1.1013e-04 - val_loss: 2.1492e-04 - val_accuracy: 0.0010\n",
      "Epoch 2/10\n",
      "284/284 [==============================] - 1s 4ms/step - loss: 1.6077e-05 - accuracy: 1.1013e-04 - val_loss: 3.0178e-04 - val_accuracy: 0.0010\n",
      "Epoch 3/10\n",
      "284/284 [==============================] - 1s 5ms/step - loss: 2.1763e-06 - accuracy: 1.1013e-04 - val_loss: 2.1400e-04 - val_accuracy: 0.0010\n",
      "Epoch 4/10\n",
      "284/284 [==============================] - 1s 4ms/step - loss: 2.1464e-06 - accuracy: 1.1013e-04 - val_loss: 2.5667e-04 - val_accuracy: 0.0010\n",
      "Epoch 5/10\n",
      "284/284 [==============================] - 1s 4ms/step - loss: 2.1262e-06 - accuracy: 1.1013e-04 - val_loss: 2.9520e-04 - val_accuracy: 0.0010\n",
      "Epoch 6/10\n",
      "284/284 [==============================] - 1s 4ms/step - loss: 7.0586e-06 - accuracy: 1.1013e-04 - val_loss: 2.1538e-04 - val_accuracy: 0.0010\n",
      "Epoch 7/10\n",
      "284/284 [==============================] - 1s 4ms/step - loss: 3.7172e-06 - accuracy: 1.1013e-04 - val_loss: 3.5442e-04 - val_accuracy: 0.0010\n",
      "Epoch 8/10\n",
      "284/284 [==============================] - 1s 4ms/step - loss: 3.2055e-06 - accuracy: 1.1013e-04 - val_loss: 1.9961e-04 - val_accuracy: 0.0010\n",
      "Epoch 9/10\n",
      "284/284 [==============================] - 1s 4ms/step - loss: 2.0114e-06 - accuracy: 1.1013e-04 - val_loss: 2.1710e-04 - val_accuracy: 0.0010\n",
      "Epoch 10/10\n",
      "284/284 [==============================] - 1s 4ms/step - loss: 2.7443e-06 - accuracy: 1.1013e-04 - val_loss: 2.7500e-04 - val_accuracy: 0.0010\n",
      "Using 4 inputs\n",
      "Training\n",
      "Epoch 1/10\n",
      "284/284 [==============================] - 1s 5ms/step - loss: 3.9732e-05 - accuracy: 1.1014e-04 - val_loss: 1.7888e-04 - val_accuracy: 0.0010\n",
      "Epoch 2/10\n",
      "284/284 [==============================] - 1s 4ms/step - loss: 3.3461e-06 - accuracy: 1.1014e-04 - val_loss: 3.3878e-04 - val_accuracy: 0.0010\n",
      "Epoch 3/10\n",
      "284/284 [==============================] - 1s 3ms/step - loss: 7.4769e-06 - accuracy: 1.1014e-04 - val_loss: 2.9105e-04 - val_accuracy: 0.0010\n",
      "Epoch 4/10\n",
      "284/284 [==============================] - 1s 5ms/step - loss: 3.3905e-06 - accuracy: 1.1014e-04 - val_loss: 5.0183e-04 - val_accuracy: 0.0010\n",
      "Epoch 5/10\n",
      "284/284 [==============================] - 1s 5ms/step - loss: 5.7959e-06 - accuracy: 1.1014e-04 - val_loss: 3.9722e-04 - val_accuracy: 0.0010\n",
      "Epoch 6/10\n",
      "284/284 [==============================] - 1s 5ms/step - loss: 2.2146e-06 - accuracy: 1.1014e-04 - val_loss: 2.3764e-04 - val_accuracy: 0.0010\n",
      "Epoch 7/10\n",
      "284/284 [==============================] - 1s 5ms/step - loss: 2.1581e-06 - accuracy: 1.1014e-04 - val_loss: 2.2456e-04 - val_accuracy: 0.0010\n",
      "Epoch 8/10\n",
      "284/284 [==============================] - 1s 5ms/step - loss: 1.1750e-05 - accuracy: 1.1014e-04 - val_loss: 2.5297e-04 - val_accuracy: 0.0010\n",
      "Epoch 9/10\n",
      "284/284 [==============================] - 1s 5ms/step - loss: 2.0546e-06 - accuracy: 1.1014e-04 - val_loss: 2.2297e-04 - val_accuracy: 0.0010\n",
      "Epoch 10/10\n",
      "284/284 [==============================] - 1s 4ms/step - loss: 2.1065e-06 - accuracy: 1.1014e-04 - val_loss: 3.0750e-04 - val_accuracy: 0.0010\n",
      "Using 5 inputs\n",
      "Training\n",
      "Epoch 1/10\n",
      "284/284 [==============================] - 2s 5ms/step - loss: 3.9956e-05 - accuracy: 1.1016e-04 - val_loss: 2.2017e-04 - val_accuracy: 0.0010\n",
      "Epoch 2/10\n",
      "284/284 [==============================] - 2s 6ms/step - loss: 3.3719e-06 - accuracy: 1.1016e-04 - val_loss: 2.0038e-04 - val_accuracy: 0.0010\n",
      "Epoch 3/10\n",
      "284/284 [==============================] - 1s 5ms/step - loss: 3.5354e-06 - accuracy: 1.1016e-04 - val_loss: 1.9693e-04 - val_accuracy: 0.0010\n",
      "Epoch 4/10\n",
      "284/284 [==============================] - 1s 5ms/step - loss: 7.6226e-06 - accuracy: 1.1016e-04 - val_loss: 5.9240e-04 - val_accuracy: 0.0010\n",
      "Epoch 5/10\n",
      "284/284 [==============================] - 1s 5ms/step - loss: 3.0535e-06 - accuracy: 1.1016e-04 - val_loss: 2.9521e-04 - val_accuracy: 0.0010\n",
      "Epoch 6/10\n",
      "284/284 [==============================] - 1s 5ms/step - loss: 6.1052e-06 - accuracy: 1.1016e-04 - val_loss: 2.6785e-04 - val_accuracy: 0.0010\n",
      "Epoch 7/10\n",
      "284/284 [==============================] - 2s 6ms/step - loss: 4.4377e-06 - accuracy: 1.1016e-04 - val_loss: 2.7221e-04 - val_accuracy: 0.0010\n",
      "Epoch 8/10\n",
      "284/284 [==============================] - 1s 4ms/step - loss: 2.3498e-06 - accuracy: 1.1016e-04 - val_loss: 1.7124e-04 - val_accuracy: 0.0010\n",
      "Epoch 9/10\n",
      "284/284 [==============================] - 1s 4ms/step - loss: 3.4108e-06 - accuracy: 1.1016e-04 - val_loss: 2.6899e-04 - val_accuracy: 0.0010\n",
      "Epoch 10/10\n",
      "284/284 [==============================] - 1s 5ms/step - loss: 7.2458e-06 - accuracy: 1.1016e-04 - val_loss: 3.9000e-04 - val_accuracy: 0.0010\n",
      "Using 6 inputs\n",
      "Training\n",
      "Epoch 1/10\n",
      "284/284 [==============================] - 2s 6ms/step - loss: 3.4592e-05 - accuracy: 1.1017e-04 - val_loss: 3.8021e-04 - val_accuracy: 0.0010\n",
      "Epoch 2/10\n",
      "284/284 [==============================] - 1s 4ms/step - loss: 3.7391e-06 - accuracy: 1.1017e-04 - val_loss: 3.0430e-04 - val_accuracy: 0.0010\n",
      "Epoch 3/10\n",
      "284/284 [==============================] - 1s 5ms/step - loss: 4.5200e-06 - accuracy: 1.1017e-04 - val_loss: 3.4783e-04 - val_accuracy: 0.0010\n",
      "Epoch 4/10\n",
      "284/284 [==============================] - 1s 4ms/step - loss: 2.9430e-06 - accuracy: 1.1017e-04 - val_loss: 2.2511e-04 - val_accuracy: 0.0010\n",
      "Epoch 5/10\n",
      "284/284 [==============================] - 1s 5ms/step - loss: 3.3041e-06 - accuracy: 1.1017e-04 - val_loss: 1.8808e-04 - val_accuracy: 0.0010\n",
      "Epoch 6/10\n",
      "284/284 [==============================] - 1s 4ms/step - loss: 4.6904e-06 - accuracy: 1.1017e-04 - val_loss: 3.8960e-04 - val_accuracy: 0.0010\n",
      "Epoch 7/10\n",
      "284/284 [==============================] - 1s 5ms/step - loss: 2.7152e-06 - accuracy: 1.1017e-04 - val_loss: 2.0397e-04 - val_accuracy: 0.0010\n",
      "Epoch 8/10\n",
      "284/284 [==============================] - 1s 4ms/step - loss: 2.9414e-06 - accuracy: 1.1017e-04 - val_loss: 1.7821e-04 - val_accuracy: 0.0010\n",
      "Epoch 9/10\n",
      "284/284 [==============================] - 1s 4ms/step - loss: 2.7693e-06 - accuracy: 1.1017e-04 - val_loss: 1.8042e-04 - val_accuracy: 0.0010\n",
      "Epoch 10/10\n",
      "284/284 [==============================] - 1s 3ms/step - loss: 2.5122e-06 - accuracy: 1.1017e-04 - val_loss: 3.1675e-04 - val_accuracy: 0.0010\n",
      "Using 7 inputs\n",
      "Training\n",
      "Epoch 1/10\n",
      "284/284 [==============================] - 1s 5ms/step - loss: 3.5626e-05 - accuracy: 1.1018e-04 - val_loss: 3.5212e-04 - val_accuracy: 0.0010\n",
      "Epoch 2/10\n",
      "284/284 [==============================] - 2s 6ms/step - loss: 4.6228e-06 - accuracy: 1.1018e-04 - val_loss: 2.7878e-04 - val_accuracy: 0.0010\n",
      "Epoch 3/10\n",
      "284/284 [==============================] - 1s 5ms/step - loss: 5.3947e-06 - accuracy: 1.1018e-04 - val_loss: 4.5121e-04 - val_accuracy: 0.0010\n",
      "Epoch 4/10\n",
      "284/284 [==============================] - 1s 4ms/step - loss: 3.5004e-06 - accuracy: 1.1018e-04 - val_loss: 2.6615e-04 - val_accuracy: 0.0010\n",
      "Epoch 5/10\n",
      "284/284 [==============================] - 2s 6ms/step - loss: 3.3762e-06 - accuracy: 1.1018e-04 - val_loss: 2.9796e-04 - val_accuracy: 0.0010\n",
      "Epoch 6/10\n",
      "284/284 [==============================] - 1s 4ms/step - loss: 3.3149e-06 - accuracy: 1.1018e-04 - val_loss: 2.3013e-04 - val_accuracy: 0.0010\n",
      "Epoch 7/10\n",
      "284/284 [==============================] - 2s 6ms/step - loss: 4.9334e-06 - accuracy: 1.1018e-04 - val_loss: 2.2352e-04 - val_accuracy: 0.0010\n",
      "Epoch 8/10\n",
      "284/284 [==============================] - 1s 4ms/step - loss: 3.9357e-06 - accuracy: 1.1018e-04 - val_loss: 2.5616e-04 - val_accuracy: 0.0010\n",
      "Epoch 9/10\n",
      "284/284 [==============================] - 1s 3ms/step - loss: 2.3033e-06 - accuracy: 1.1018e-04 - val_loss: 2.9157e-04 - val_accuracy: 0.0010\n",
      "Epoch 10/10\n",
      "284/284 [==============================] - 1s 4ms/step - loss: 3.9435e-06 - accuracy: 1.1018e-04 - val_loss: 3.0298e-04 - val_accuracy: 0.0010\n",
      "Using 8 inputs\n",
      "Training\n",
      "Epoch 1/10\n",
      "284/284 [==============================] - 1s 5ms/step - loss: 1.3262e-04 - accuracy: 1.1019e-04 - val_loss: 0.0011 - val_accuracy: 0.0010\n",
      "Epoch 2/10\n",
      "284/284 [==============================] - 1s 4ms/step - loss: 3.5585e-06 - accuracy: 1.1019e-04 - val_loss: 0.0012 - val_accuracy: 0.0010\n",
      "Epoch 3/10\n",
      "284/284 [==============================] - 1s 4ms/step - loss: 3.2180e-06 - accuracy: 1.1019e-04 - val_loss: 4.4489e-04 - val_accuracy: 0.0010\n",
      "Epoch 4/10\n",
      "284/284 [==============================] - 1s 4ms/step - loss: 3.0991e-06 - accuracy: 1.1019e-04 - val_loss: 6.9507e-04 - val_accuracy: 0.0010\n",
      "Epoch 5/10\n",
      "284/284 [==============================] - 1s 4ms/step - loss: 3.3475e-06 - accuracy: 1.1019e-04 - val_loss: 4.7597e-04 - val_accuracy: 0.0010\n",
      "Epoch 6/10\n",
      "284/284 [==============================] - 1s 4ms/step - loss: 2.9205e-06 - accuracy: 1.1019e-04 - val_loss: 3.1182e-04 - val_accuracy: 0.0010\n",
      "Epoch 7/10\n",
      "284/284 [==============================] - 1s 4ms/step - loss: 4.9508e-06 - accuracy: 1.1019e-04 - val_loss: 5.1450e-04 - val_accuracy: 0.0010\n",
      "Epoch 8/10\n",
      "284/284 [==============================] - 1s 5ms/step - loss: 7.2130e-06 - accuracy: 1.1019e-04 - val_loss: 4.4959e-04 - val_accuracy: 0.0010\n",
      "Epoch 9/10\n",
      "284/284 [==============================] - 2s 6ms/step - loss: 2.5953e-06 - accuracy: 1.1019e-04 - val_loss: 7.9878e-04 - val_accuracy: 0.0010\n",
      "Epoch 10/10\n",
      "284/284 [==============================] - 1s 4ms/step - loss: 2.9877e-06 - accuracy: 1.1019e-04 - val_loss: 7.0424e-04 - val_accuracy: 0.0010\n",
      "Using 9 inputs\n",
      "Training\n",
      "Epoch 1/10\n",
      "284/284 [==============================] - 1s 5ms/step - loss: 9.7371e-05 - accuracy: 1.1020e-04 - val_loss: 2.5896e-04 - val_accuracy: 0.0010\n",
      "Epoch 2/10\n",
      "284/284 [==============================] - 1s 4ms/step - loss: 3.4539e-06 - accuracy: 1.1020e-04 - val_loss: 1.8180e-04 - val_accuracy: 0.0010\n",
      "Epoch 3/10\n",
      "284/284 [==============================] - 1s 5ms/step - loss: 3.1192e-06 - accuracy: 1.1020e-04 - val_loss: 2.1456e-04 - val_accuracy: 0.0010\n",
      "Epoch 4/10\n",
      "284/284 [==============================] - 1s 5ms/step - loss: 4.8169e-06 - accuracy: 1.1020e-04 - val_loss: 2.7817e-04 - val_accuracy: 0.0010\n",
      "Epoch 5/10\n",
      "284/284 [==============================] - 1s 5ms/step - loss: 2.1841e-06 - accuracy: 1.1020e-04 - val_loss: 3.1664e-04 - val_accuracy: 0.0010\n",
      "Epoch 6/10\n",
      "284/284 [==============================] - 1s 3ms/step - loss: 3.3588e-06 - accuracy: 1.1020e-04 - val_loss: 3.5665e-04 - val_accuracy: 0.0010\n",
      "Epoch 7/10\n",
      "284/284 [==============================] - 1s 3ms/step - loss: 3.0172e-06 - accuracy: 1.1020e-04 - val_loss: 3.8639e-04 - val_accuracy: 0.0010\n",
      "Epoch 8/10\n",
      "284/284 [==============================] - 1s 3ms/step - loss: 2.6044e-06 - accuracy: 1.1020e-04 - val_loss: 5.3571e-04 - val_accuracy: 0.0010\n",
      "Epoch 9/10\n",
      "284/284 [==============================] - 1s 4ms/step - loss: 3.3805e-06 - accuracy: 1.1020e-04 - val_loss: 6.8004e-04 - val_accuracy: 0.0010\n",
      "Epoch 10/10\n",
      "284/284 [==============================] - 1s 4ms/step - loss: 2.7024e-06 - accuracy: 1.1020e-04 - val_loss: 6.3743e-04 - val_accuracy: 0.0010\n",
      "Using 10 inputs\n",
      "Training\n",
      "Epoch 1/10\n",
      "284/284 [==============================] - 1s 4ms/step - loss: 3.9670e-05 - accuracy: 1.1022e-04 - val_loss: 3.6182e-04 - val_accuracy: 0.0010\n",
      "Epoch 2/10\n",
      "284/284 [==============================] - 1s 3ms/step - loss: 5.8984e-06 - accuracy: 1.1022e-04 - val_loss: 3.3868e-04 - val_accuracy: 0.0010\n",
      "Epoch 3/10\n",
      "284/284 [==============================] - 1s 3ms/step - loss: 5.3189e-06 - accuracy: 1.1022e-04 - val_loss: 2.7299e-04 - val_accuracy: 0.0010\n",
      "Epoch 4/10\n",
      "284/284 [==============================] - 1s 3ms/step - loss: 3.7534e-06 - accuracy: 1.1022e-04 - val_loss: 2.4714e-04 - val_accuracy: 0.0010\n",
      "Epoch 5/10\n",
      "284/284 [==============================] - 1s 4ms/step - loss: 5.0749e-06 - accuracy: 1.1022e-04 - val_loss: 2.2106e-04 - val_accuracy: 0.0010\n",
      "Epoch 6/10\n",
      "284/284 [==============================] - 2s 5ms/step - loss: 4.3288e-06 - accuracy: 1.1022e-04 - val_loss: 2.4330e-04 - val_accuracy: 0.0010\n",
      "Epoch 7/10\n",
      "284/284 [==============================] - 2s 6ms/step - loss: 4.9966e-06 - accuracy: 1.1022e-04 - val_loss: 3.5454e-04 - val_accuracy: 0.0010\n",
      "Epoch 8/10\n",
      "284/284 [==============================] - 1s 4ms/step - loss: 1.1137e-05 - accuracy: 1.1022e-04 - val_loss: 2.8160e-04 - val_accuracy: 0.0010\n",
      "Epoch 9/10\n",
      "284/284 [==============================] - 1s 3ms/step - loss: 3.2184e-06 - accuracy: 1.1022e-04 - val_loss: 2.0309e-04 - val_accuracy: 0.0010\n",
      "Epoch 10/10\n",
      "284/284 [==============================] - 1s 3ms/step - loss: 3.6534e-06 - accuracy: 1.1022e-04 - val_loss: 1.8671e-04 - val_accuracy: 0.0010\n"
     ]
    }
   ],
   "source": [
    "trained_models = select_inputs(normalized_h, 2, 10, 10)"
   ]
  },
  {
   "cell_type": "markdown",
   "metadata": {},
   "source": [
    "### short summary"
   ]
  },
  {
   "cell_type": "code",
   "execution_count": 14,
   "metadata": {},
   "outputs": [],
   "source": [
    "model_stats = {}\n",
    "for k, v in trained_models.items():\n",
    "    train_history = v['history']\n",
    "    loss = train_history['loss'][-1]\n",
    "    val_loss = train_history['val_loss'][-1]\n",
    "    accuracy = train_history['accuracy'][-1]\n",
    "    model_stats[k] = {'inputs': k, 'loss': loss, 'val_loss': val_loss, 'accuracy': accuracy}"
   ]
  },
  {
   "cell_type": "code",
   "execution_count": 15,
   "metadata": {},
   "outputs": [
    {
     "data": {
      "text/plain": [
       "{2: {'inputs': 2,\n",
       "  'loss': 2.4785881578281987e-06,\n",
       "  'val_loss': 0.004786770325154066,\n",
       "  'accuracy': 0.00011012003233190626},\n",
       " 3: {'inputs': 3,\n",
       "  'loss': 2.7443195449450286e-06,\n",
       "  'val_loss': 0.00027500325813889503,\n",
       "  'accuracy': 0.0001101321613532491},\n",
       " 4: {'inputs': 4,\n",
       "  'loss': 2.106454985550954e-06,\n",
       "  'val_loss': 0.000307499518385157,\n",
       "  'accuracy': 0.00011014429037459195},\n",
       " 5: {'inputs': 5,\n",
       "  'loss': 7.245840606628917e-06,\n",
       "  'val_loss': 0.00039000165998004377,\n",
       "  'accuracy': 0.00011015641939593479},\n",
       " 6: {'inputs': 6,\n",
       "  'loss': 2.512232640583534e-06,\n",
       "  'val_loss': 0.00031674656202085316,\n",
       "  'accuracy': 0.00011016855569323525},\n",
       " 7: {'inputs': 7,\n",
       "  'loss': 3.943517640436767e-06,\n",
       "  'val_loss': 0.00030297672492451966,\n",
       "  'accuracy': 0.00011018069926649332},\n",
       " 8: {'inputs': 8,\n",
       "  'loss': 2.9877267024858156e-06,\n",
       "  'val_loss': 0.0007042440702207386,\n",
       "  'accuracy': 0.00011019283556379378},\n",
       " 9: {'inputs': 9,\n",
       "  'loss': 2.7024086648452794e-06,\n",
       "  'val_loss': 0.0006374309887178242,\n",
       "  'accuracy': 0.00011020497913705185},\n",
       " 10: {'inputs': 10,\n",
       "  'loss': 3.653373596534948e-06,\n",
       "  'val_loss': 0.0001867119426606223,\n",
       "  'accuracy': 0.00011021712998626754}}"
      ]
     },
     "execution_count": 15,
     "metadata": {},
     "output_type": "execute_result"
    }
   ],
   "source": [
    "model_stats"
   ]
  },
  {
   "cell_type": "markdown",
   "metadata": {},
   "source": [
    "### plotting val loss"
   ]
  },
  {
   "cell_type": "code",
   "execution_count": 12,
   "metadata": {},
   "outputs": [
    {
     "data": {
      "text/plain": [
       "[<matplotlib.lines.Line2D at 0x7f6e180a0e50>]"
      ]
     },
     "execution_count": 12,
     "metadata": {},
     "output_type": "execute_result"
    },
    {
     "data": {
      "image/png": "[encoded data removed]",
      "text/plain": [
       "<Figure size 432x288 with 1 Axes>"
      ]
     },
     "metadata": {
      "needs_background": "light"
     },
     "output_type": "display_data"
    }
   ],
   "source": [
    "val_loss = []\n",
    "indices = []\n",
    "for k, v in model_stats.items():\n",
    "    indices.append(k)\n",
    "    val_loss.append(v['val_loss'])\n",
    "plt.plot(indices, val_loss)"
   ]
  },
  {
   "cell_type": "markdown",
   "metadata": {},
   "source": [
    "### actual loss"
   ]
  },
  {
   "cell_type": "code",
   "execution_count": 13,
   "metadata": {},
   "outputs": [
    {
     "name": "stdout",
     "output_type": "stream",
     "text": [
      "2 0.6793615451307186\n",
      "3 0.07518840001180607\n",
      "4 0.0795399916312235\n",
      "5 0.09058789761263861\n",
      "6 0.0807782681985744\n",
      "7 0.07893434193582725\n",
      "8 0.1326682671230422\n",
      "9 0.1237212915839421\n",
      "10 0.06336526265412235\n"
     ]
    }
   ],
   "source": [
    "vals = []\n",
    "close_min = history['Close'].min()\n",
    "close_max = history['Close'].max()\n",
    "for k in model_stats:\n",
    "    e = ((close_max - close_min) * model_stats[k]['val_loss'] + close_min)\n",
    "    vals.append(e)\n",
    "    print(k, e)"
   ]
  }
 ],
 "metadata": {
  "kernelspec": {
   "display_name": "Python 3",
   "language": "python",
   "name": "python3"
  },
  "language_info": {
   "codemirror_mode": {
    "name": "ipython",
    "version": 3
   },
   "file_extension": ".py",
   "mimetype": "text/x-python",
   "name": "python",
   "nbconvert_exporter": "python",
   "pygments_lexer": "ipython3",
   "version": "3.8.6"
  }
 },
 "nbformat": 4,
 "nbformat_minor": 4
}
